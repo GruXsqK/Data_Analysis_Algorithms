{
 "cells": [
  {
   "cell_type": "code",
   "execution_count": 1,
   "metadata": {},
   "outputs": [],
   "source": [
    "import numpy as np\n",
    "import matplotlib.pyplot as plt"
   ]
  },
  {
   "cell_type": "code",
   "execution_count": 2,
   "metadata": {},
   "outputs": [],
   "source": [
    "def calc_mse(y, y_pred):\n",
    "    err = np.mean((y - y_pred)**2)\n",
    "    return err"
   ]
  },
  {
   "cell_type": "code",
   "execution_count": 3,
   "metadata": {},
   "outputs": [],
   "source": [
    "def calc_mae(y, y_pred):\n",
    "    err = np.mean(np.abs(y - y_pred))\n",
    "    return err"
   ]
  },
  {
   "cell_type": "code",
   "execution_count": 4,
   "metadata": {},
   "outputs": [],
   "source": [
    "def get_data():\n",
    "    X = np.array([[1, 1, 1, 1, 1, 1, 1, 1, 1, 1], \n",
    "                  [1, 1, 2, 1, 3, 0, 5, 10, 1, 2]])\n",
    "\n",
    "    y = [45, 55, 50, 59, 65, 35, 75, 80, 50, 60]\n",
    "\n",
    "    n = X.shape[1]\n",
    "    W = np.array([1, 0.5])\n",
    "    return X, y, W, n"
   ]
  },
  {
   "cell_type": "markdown",
   "metadata": {},
   "source": [
    "1. Подберите скорость обучения (alpha) и количество итераций:"
   ]
  },
  {
   "cell_type": "code",
   "execution_count": 5,
   "metadata": {},
   "outputs": [
    {
     "name": "stdout",
     "output_type": "stream",
     "text": [
      "0 [3.204 7.3  ] 3173.15\n",
      "100 [41.95214292  4.88570667] 61.568780958579865\n",
      "200 [46.58653419  4.02993086] 46.171203616546116\n",
      "300 [47.15320146  3.92529142] 45.94099410777858\n",
      "400 [47.22249035  3.9124967 ] 45.93755224048029\n",
      "500 [47.2309626   3.91093223] 45.93750078104854\n"
     ]
    }
   ],
   "source": [
    "X, y, W, n = get_data()\n",
    "\n",
    "alpha = 2e-2\n",
    "max_iter = 501\n",
    "\n",
    "for i in range(max_iter):\n",
    "    y_pred = np.dot(W, X)\n",
    "    err = calc_mse(y, y_pred)\n",
    "    for ii in range(W.shape[0]):\n",
    "        W[ii] -= alpha * (1/n * 2 * np.sum(X[ii] * (y_pred - y)))\n",
    "    if i % 100 == 0:\n",
    "        print(i, W, err)"
   ]
  },
  {
   "cell_type": "markdown",
   "metadata": {},
   "source": [
    "*2. В этом коде мы избавляемся от итераций по весам, но тут есть ошибка, исправьте ее:"
   ]
  },
  {
   "cell_type": "code",
   "execution_count": 6,
   "metadata": {},
   "outputs": [
    {
     "name": "stdout",
     "output_type": "stream",
     "text": [
      "0 [3.204 7.3  ] 3173.15\n",
      "100 [41.95214292  4.88570667] 61.568780958579865\n",
      "200 [46.58653419  4.02993086] 46.171203616546116\n",
      "300 [47.15320146  3.92529142] 45.94099410777858\n",
      "400 [47.22249035  3.9124967 ] 45.93755224048029\n",
      "500 [47.2309626   3.91093223] 45.93750078104854\n"
     ]
    }
   ],
   "source": [
    "X, y, W, n = get_data()\n",
    "\n",
    "alpha = 2e-2\n",
    "max_iter = 501\n",
    "\n",
    "for i in range(max_iter):\n",
    "    y_pred = np.dot(W, X)\n",
    "    err = calc_mse(y, y_pred)\n",
    "    W -= (alpha * (1/n * 2 * X @ (y_pred - y)))\n",
    "    if i % 100 == 0:\n",
    "        print(i, W, err)"
   ]
  },
  {
   "cell_type": "markdown",
   "metadata": {},
   "source": [
    "*3: вместо того, чтобы задавать количество итераций, задайте условие остановки алгоритма - когда ошибка за итерацию\n",
    "начинает изменяться ниже определенного порога (упрощенный аналог параметра tol в линейной регрессии в sklearn)."
   ]
  },
  {
   "cell_type": "code",
   "execution_count": 7,
   "metadata": {},
   "outputs": [
    {
     "name": "stdout",
     "output_type": "stream",
     "text": [
      "475 [47.23010456  3.91109067] 45.93750232950477\n"
     ]
    }
   ],
   "source": [
    "X, y, W, n = get_data()\n",
    "\n",
    "alpha = 2e-2\n",
    "err_dif = np.inf\n",
    "err_old = 0\n",
    "err_threshold = 1e-7\n",
    "iter_num = 0\n",
    "max_iter = 1000\n",
    "\n",
    "while err_dif > err_threshold and iter_num < max_iter:\n",
    "    y_pred = np.dot(W, X)\n",
    "    err = calc_mse(y, y_pred)\n",
    "    err_dif = np.abs(err - err_old)\n",
    "    W -= (alpha * (1/n * 2 * X @ (y_pred - y)))\n",
    "    err_old = err\n",
    "    iter_num += 1\n",
    "\n",
    "print(iter_num, W, err)"
   ]
  }
 ],
 "metadata": {
  "kernelspec": {
   "display_name": "Python 3",
   "language": "python",
   "name": "python3"
  },
  "language_info": {
   "codemirror_mode": {
    "name": "ipython",
    "version": 3
   },
   "file_extension": ".py",
   "mimetype": "text/x-python",
   "name": "python",
   "nbconvert_exporter": "python",
   "pygments_lexer": "ipython3",
   "version": "3.7.3"
  }
 },
 "nbformat": 4,
 "nbformat_minor": 2
}
