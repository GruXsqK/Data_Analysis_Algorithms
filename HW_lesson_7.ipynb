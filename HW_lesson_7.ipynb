{
 "cells": [
  {
   "cell_type": "markdown",
   "metadata": {},
   "source": [
    "1. К алгоритму kNN, реализованному на уроке, реализовать добавление весов для соседей по любому из показанных на уроке принципов."
   ]
  },
  {
   "cell_type": "code",
   "execution_count": 1,
   "metadata": {},
   "outputs": [],
   "source": [
    "import numpy as np\n",
    "from sklearn import model_selection\n",
    "from sklearn.datasets import load_iris\n",
    "import matplotlib.pyplot as plt"
   ]
  },
  {
   "cell_type": "code",
   "execution_count": 2,
   "metadata": {},
   "outputs": [],
   "source": [
    "X, y = load_iris(return_X_y=True)\n",
    "\n",
    "X_train, X_test, y_train, y_test = model_selection.train_test_split(X[:, :2], y, test_size=0.2, random_state=1)"
   ]
  },
  {
   "cell_type": "code",
   "execution_count": 3,
   "metadata": {},
   "outputs": [],
   "source": [
    "def e_metrics(x1, x2):\n",
    "    \n",
    "    distance = 0\n",
    "    for i in range(len(x1)):\n",
    "        distance += np.square(x1[i] - x2[i])\n",
    "    \n",
    "    return np.sqrt(distance)\n",
    "\n",
    "def knn(x_train, y_train, x_test, k, type_weight=None):\n",
    "    type_weight == 'number'\n",
    "    answers = []\n",
    "    for x in x_test:\n",
    "        test_distances = []\n",
    "            \n",
    "        for i in range(len(x_train)):\n",
    "            distance = e_metrics(x, x_train[i])\n",
    "            test_distances.append([distance, y_train[i]])\n",
    "\n",
    "        classes = {class_item: 0 for class_item in set(y_train)}\n",
    "        \n",
    "        if type_weight == 'distance':\n",
    "            # Вес от расстояния\n",
    "            a = 1\n",
    "            for d in test_distances:\n",
    "                d[0] = d[0] / (d[0] + a)**1.5\n",
    "            \n",
    "        elif type_weight == 'number':\n",
    "            # Вес от номера соседа\n",
    "            a = 1\n",
    "            for i, d in enumerate(sorted(test_distances, reverse=True)):\n",
    "                d[0] = d[0] / (i + a)**2\n",
    "        \n",
    "        # Сортируем список и посчитаем частоту появления разных классов для первых k элементов\n",
    "        for d in sorted(test_distances)[0:k]:\n",
    "            classes[d[1]] += 1\n",
    "            \n",
    "        answers.append(sorted(classes, key=classes.get)[-1])\n",
    "    return answers\n",
    "\n",
    "\n",
    "def accuracy(pred, y):\n",
    "    return (sum(pred == y) / len(y))"
   ]
  },
  {
   "cell_type": "code",
   "execution_count": 4,
   "metadata": {},
   "outputs": [
    {
     "name": "stdout",
     "output_type": "stream",
     "text": [
      "Точность алгоритма без весов: 0.867\n",
      "Точность алгоритма с весами по расстоянию: 0.867\n",
      "Точность алгоритма с весами по номеру соседа: 0.867\n"
     ]
    }
   ],
   "source": [
    "k = 5\n",
    "\n",
    "y_pred = knn(X_train, y_train, X_test, k)\n",
    "y_pred_dist = knn(X_train, y_train, X_test, k, type_weight='distance')\n",
    "y_pred_numb = knn(X_train, y_train, X_test, k, type_weight='number')\n",
    "\n",
    "print(f'Точность алгоритма без весов: {accuracy(y_pred, y_test):.3f}')\n",
    "print(f'Точность алгоритма с весами по расстоянию: {accuracy(y_pred_dist, y_test):.3f}')\n",
    "print(f'Точность алгоритма с весами по номеру соседа: {accuracy(y_pred_numb, y_test):.3f}')"
   ]
  },
  {
   "cell_type": "markdown",
   "metadata": {},
   "source": [
    "2*. Написать функцию подсчета метрики качества кластеризации как среднее квадратичное внутриклассовое расстояние и построить \n",
    "график ее зависимости от количества кластеров k (взять от 1 до 10) для выборки данных из данного урока (создать датасет, как в методичке)."
   ]
  },
  {
   "cell_type": "code",
   "execution_count": 5,
   "metadata": {},
   "outputs": [],
   "source": [
    "from sklearn.datasets import make_blobs\n",
    "import random\n",
    "\n",
    "X, y = make_blobs(n_samples=100, random_state=1)"
   ]
  },
  {
   "cell_type": "code",
   "execution_count": 6,
   "metadata": {},
   "outputs": [],
   "source": [
    "def kmeans(data, k, max_iterations, min_distance):\n",
    "    # Создадим словарь для классификации\n",
    "    classes = {i: [] for i in range(k)}\n",
    "    \n",
    "    # инициализируем центроиды как первые k элементов датасета\n",
    "    centroids = [data[i] for i in range(k)]\n",
    "    \n",
    "    for _ in range(max_iterations):\n",
    "        # классифицируем объекты по центроидам\n",
    "        for x in data:\n",
    "            # определим расстояния от объекта до каждого центроида\n",
    "            distances = [e_metrics(x, centroid) for centroid in centroids]\n",
    "            # отнесем объект к кластеру, до центроида которого наименьшее расстояние\n",
    "            classification = distances.index(min(distances))\n",
    "            classes[classification].append(x)\n",
    "        \n",
    "        # сохраним предыдущие центроиды в отдельный список для последующего сравнения сновыми\n",
    "        old_centroids = centroids.copy()\n",
    "        \n",
    "        # пересчитаем центроиды как среднее по кластерам\n",
    "        for classification in classes:\n",
    "            centroids[classification] = np.average(classes[classification], axis=0)\n",
    "            \n",
    "        # сравним величину смещения центроидов с минимальной\n",
    "        optimal = True\n",
    "        for centroid in range(len(centroids)):\n",
    "            if np.sum(abs((centroids[centroid] - old_centroids[centroid]) / old_centroids * 100)) > min_distance:\n",
    "                optimal = False\n",
    "                \n",
    "        # если все смещения меньше минимального, останавливаем алгоритм  \n",
    "        if optimal:\n",
    "            break\n",
    "    \n",
    "    return old_centroids, classes"
   ]
  },
  {
   "cell_type": "code",
   "execution_count": 7,
   "metadata": {},
   "outputs": [],
   "source": [
    "def mean_sqr_cluster_distance(centroids, clusters):\n",
    "    m_sqr_clust_dist = 0\n",
    "    # Итерация по центроидам\n",
    "    for key_centroid in zip(clusters.keys(), centroids):\n",
    "        sum_metric_clust = 0\n",
    "        # Итерация по точкам в кластере\n",
    "        for point in clusters[key_centroid[0]]:\n",
    "            # Расчет суммы квадратов расстояний внутри одного кластера\n",
    "            sum_metric_clust += e_metrics(point, key_centroid[1])**2\n",
    "        # Сумма по всем кластерам    \n",
    "        m_sqr_clust_dist += sum_metric_clust / len(clusters[key_centroid[0]])\n",
    "        \n",
    "    return m_sqr_clust_dist"
   ]
  },
  {
   "cell_type": "code",
   "execution_count": 8,
   "metadata": {},
   "outputs": [],
   "source": [
    "def get_plot_nclusters(X, max_clusters, max_iterations=10, min_distance=1e-4):\n",
    "    distance = []\n",
    "    x_plot = range(1, max_clusters + 1)\n",
    "    for k in x_plot:\n",
    "        centroids, clusters = kmeans(X, k, max_iterations, min_distance)\n",
    "        distance.append(mean_sqr_cluster_distance(centroids, clusters))\n",
    "        \n",
    "    plt.figure(figsize=(10, 6))\n",
    "    plt.xlim(0, max(x_plot) + 1)\n",
    "    plt.ylim(0, max(distance) + 0.1*max(distance))\n",
    "    plt.plot(x_plot, distance)\n",
    "    plt.xlabel('Количество кластеров')\n",
    "    plt.ylabel('Среднее квадратичное внутриклассовое расстояние')\n",
    "    plt.title('Зависимость расстояния от количества кластеров')\n",
    "    plt.grid()\n",
    "    plt.show()"
   ]
  },
  {
   "cell_type": "code",
   "execution_count": 9,
   "metadata": {},
   "outputs": [
    {
     "data": {
      "image/png": "[encoded data removed]",
      "text/plain": [
       "<Figure size 720x432 with 1 Axes>"
      ]
     },
     "metadata": {
      "needs_background": "light"
     },
     "output_type": "display_data"
    }
   ],
   "source": [
    "get_plot_nclusters(X, max_clusters=10, max_iterations=10, min_distance=1e-4)"
   ]
  }
 ],
 "metadata": {
  "kernelspec": {
   "display_name": "Python 3",
   "language": "python",
   "name": "python3"
  },
  "language_info": {
   "codemirror_mode": {
    "name": "ipython",
    "version": 3
   },
   "file_extension": ".py",
   "mimetype": "text/x-python",
   "name": "python",
   "nbconvert_exporter": "python",
   "pygments_lexer": "ipython3",
   "version": "3.7.3"
  }
 },
 "nbformat": 4,
 "nbformat_minor": 2
}
